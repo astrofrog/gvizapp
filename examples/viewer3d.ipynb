{
 "cells": [
  {
   "cell_type": "markdown",
   "metadata": {},
   "source": [
    "## Plotly Example Notebook"
   ]
  },
  {
   "cell_type": "markdown",
   "metadata": {},
   "source": [
    "Note: This does not appear to work in jupyter lab, only in jupyter notebooks. As I remember it was an issue with displaying widgets in jupyter labs.\n",
    "\n",
    "pip install: astropy numpy spectral-cube scipy plotly jupyter-notebook https://github.com/brechmos-stsci/vizapp"
   ]
  },
  {
   "cell_type": "markdown",
   "metadata": {},
   "source": [
    "Load up the correct imports"
   ]
  },
  {
   "cell_type": "code",
   "execution_count": 1,
   "metadata": {},
   "outputs": [],
   "source": [
    "import numpy as np\n",
    "from spectral_cube import SpectralCube\n",
    "from astropy.wcs import WCS\n",
    "\n",
    "\n",
    "import sys\n",
    "sys.path.append('/home/craig/Documents/STScI/vizapp/glupyter/vizapp')\n",
    "\n",
    "from vizapp.vizapp import VizApp\n",
    "from vizapp.viewer.viewer1d import Viewer1D\n",
    "from vizapp.viewer.viewernd import ViewerND"
   ]
  },
  {
   "cell_type": "markdown",
   "metadata": {},
   "source": [
    "## Load Dataset"
   ]
  },
  {
   "cell_type": "code",
   "execution_count": 2,
   "metadata": {},
   "outputs": [],
   "source": [
    "#from astropy.io import fits\n",
    "\n",
    "#fits_file = fits.open('/home/craig/Documents/STScI/cubeviz/data/manga-7495-12704-LOGCUBE_fixed.fits.gz')"
   ]
  },
  {
   "cell_type": "markdown",
   "metadata": {},
   "source": [
    "## Add the Dataset to the VizApp"
   ]
  },
  {
   "cell_type": "code",
   "execution_count": 3,
   "metadata": {},
   "outputs": [],
   "source": [
    "vizapp = VizApp()"
   ]
  },
  {
   "cell_type": "markdown",
   "metadata": {},
   "source": [
    "### Add some 3D Data"
   ]
  },
  {
   "cell_type": "code",
   "execution_count": 4,
   "metadata": {},
   "outputs": [],
   "source": [
    "#vizapp.add_data('manga-flux', fits_file['FLUX'].data)\n",
    "#vizapp.add_data('manga-ivar', fits_file['IVAR'].data)\n",
    "#vizapp.add_data('manga-mask', fits_file['MASK'].data)"
   ]
  },
  {
   "cell_type": "markdown",
   "metadata": {},
   "source": [
    "### Add some 2D Data"
   ]
  },
  {
   "cell_type": "code",
   "execution_count": 5,
   "metadata": {},
   "outputs": [],
   "source": [
    "# Pre-load so the overlay has something to show.\n",
    "#vizapp.add_data('median-flux', np.nanmedian(fits_file['FLUX'].data, axis=0))"
   ]
  },
  {
   "cell_type": "markdown",
   "metadata": {},
   "source": [
    "### Add some 1D Data"
   ]
  },
  {
   "cell_type": "code",
   "execution_count": 6,
   "metadata": {},
   "outputs": [],
   "source": [
    "#vizapp.add_data('median-spatial-flux', np.nanmedian(fits_file['FLUX'].data, axis=(1,2)))\n",
    "#vizapp.add_data('mean-spatial-flux', np.nanmean(fits_file['FLUX'].data, axis=(1,2)))"
   ]
  },
  {
   "cell_type": "markdown",
   "metadata": {},
   "source": [
    "### Add a 3D Processing Method"
   ]
  },
  {
   "cell_type": "code",
   "execution_count": 7,
   "metadata": {},
   "outputs": [],
   "source": [
    "#import scipy.ndimage\n",
    "#vizapp.add_3d_processing('gaussian-filter', scipy.ndimage.gaussian_filter, 'input', [('sigma', 3.0)],)"
   ]
  },
  {
   "cell_type": "markdown",
   "metadata": {},
   "source": [
    "## Add vizapp to the Viewer"
   ]
  },
  {
   "cell_type": "code",
   "execution_count": 8,
   "metadata": {
    "scrolled": false
   },
   "outputs": [],
   "source": [
    "#viewernd = ViewerND(vizapp)"
   ]
  },
  {
   "cell_type": "code",
   "execution_count": 9,
   "metadata": {
    "scrolled": true
   },
   "outputs": [],
   "source": [
    "#viewernd.show()"
   ]
  },
  {
   "cell_type": "code",
   "execution_count": 10,
   "metadata": {},
   "outputs": [
    {
     "name": "stderr",
     "output_type": "stream",
     "text": [
      "/home/craig/Documents/STScI/vizapp/venv/lib/python3.7/site-packages/glue/viewers/common/viewer.py:179: UserWarning: Add large data set?\n",
      "  warnings.warn(message)\n"
     ]
    },
    {
     "data": {
      "application/vnd.jupyter.widget-view+json": {
       "model_id": "7a04d69f918b4293b7e97799e179ec2c",
       "version_major": 2,
       "version_minor": 0
      },
      "text/plain": [
       "VBox(children=(HBox(children=(BasicJupyterToolbar(children=(ToggleButton(children=(Image(value=b'<?xml version…"
      ]
     },
     "metadata": {},
     "output_type": "display_data"
    },
    {
     "data": {
      "application/vnd.jupyter.widget-view+json": {
       "model_id": "7f0ab843f6004e47b9844834c25ce1b8",
       "version_major": 2,
       "version_minor": 0
      },
      "text/plain": [
       "VBox()"
      ]
     },
     "metadata": {},
     "output_type": "display_data"
    }
   ],
   "source": [
    "from vizapp.viewer import CubeViz\n",
    "cubeviz = CubeViz(vizapp)\n",
    "cubeviz.show()"
   ]
  },
  {
   "cell_type": "code",
   "execution_count": null,
   "metadata": {},
   "outputs": [],
   "source": []
  }
 ],
 "metadata": {
  "kernelspec": {
   "display_name": "Python 3",
   "language": "python",
   "name": "python3"
  },
  "language_info": {
   "codemirror_mode": {
    "name": "ipython",
    "version": 3
   },
   "file_extension": ".py",
   "mimetype": "text/x-python",
   "name": "python",
   "nbconvert_exporter": "python",
   "pygments_lexer": "ipython3",
   "version": "3.7.2"
  }
 },
 "nbformat": 4,
 "nbformat_minor": 2
}
